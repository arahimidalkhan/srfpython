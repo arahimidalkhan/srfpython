{
 "cells": [
  {
   "cell_type": "markdown",
   "metadata": {},
   "source": [
    "# Tutorial for srfpython"
   ]
  },
  {
   "cell_type": "markdown",
   "metadata": {},
   "source": [
    "**Overview**\n",
    " + Intro : import and verify installation\n",
    " + I/ create a 1-D depth model  \n",
    " + II/ compute dispersion curves   \n",
    "     + II.1/ use in a python program  \n",
    "     + II.2/ use in command line   \n",
    " - III/ depth inversion  \n",
    " - III.1/ Program HerrMet  \n",
    " - III.2/ Application  \n",
    "     + III.2.1/ Target data  \n",
    "     + III.2.2/ Parameterization  \n",
    "     + III.2.3/ Run inversion  \n",
    "     + III.2.4/ Extract results"
   ]
  },
  {
   "cell_type": "markdown",
   "metadata": {},
   "source": [
    "## Intro/ import and verify installation"
   ]
  },
  {
   "cell_type": "code",
   "execution_count": null,
   "metadata": {
    "collapsed": true
   },
   "outputs": [],
   "source": [
    "# -----------------------\n",
    "# import all components of srfpython\n",
    "# -----------------------\n",
    "from srfpython import *"
   ]
  },
  {
   "cell_type": "code",
   "execution_count": null,
   "metadata": {},
   "outputs": [],
   "source": [
    "# -----------------------\n",
    "# make sure that the fortran codes have been compiled correctly\n",
    "# -----------------------\n",
    "try:\n",
    "    check_herrmann_codes() \n",
    "    print \"ok\"\n",
    "    \n",
    "except Exception:\n",
    "    print \"compilation was not done or done on another system\"\n",
    "\n",
    "    # recompile\n",
    "    from srfpython import recompile_src90\n",
    "    recompile_src90(yes=False)\n",
    "\n",
    "    # verify once more\n",
    "    try:\n",
    "        check_herrmann_codes()\n",
    "        print 'sucess'\n",
    "    except Exception:\n",
    "        print 'Error : unexpected failure, make sure you have gfortran installed'\n",
    "\n"
   ]
  },
  {
   "cell_type": "markdown",
   "metadata": {},
   "source": [
    "## I/ create a 1-D depth model"
   ]
  },
  {
   "cell_type": "code",
   "execution_count": null,
   "metadata": {},
   "outputs": [],
   "source": [
    "# -----------------------\n",
    "# create 1-D depth model using 4 arrays with same length\n",
    "# -----------------------\n",
    "ztop = [0.00, 0.25, 0.45, 0.65, 0.85, 1.05, 1.53, 1.80] #km, top layer depth, positive, increasing downward, 0 = surface\n",
    "vp   = [1.85, 2.36, 2.63, 3.15, 3.71, 4.54, 5.48, 5.80] #km/s, P wave velocity in each layer\n",
    "vs   = [0.86, 1.10, 1.24, 1.47, 1.73, 2.13, 3.13, 3.31] #km/s, S wave velocity in each layer\n",
    "rh   = [2.47, 2.47, 2.47, 2.47, 2.47, 2.58, 2.58, 2.63] #g/cm3, Density in each layer\n",
    "\n",
    "# create the depthmodel object, use a subclass that is to be intitiated with arrays\n",
    "# see also depthmodel, depthmodel1D, depthmodel_from_mod96, ...\n",
    "dm = depthmodel_from_arrays(ztop, vp, vs, rh)\n",
    "\n",
    "\n",
    "# __str__ returns the file content at mod96 format, (see Herrmann CPS documentation)\n",
    "print dm "
   ]
  },
  {
   "cell_type": "code",
   "execution_count": null,
   "metadata": {
    "collapsed": true
   },
   "outputs": [],
   "source": [
    "# -----------------------\n",
    "# write the depth model as a file at mod96 format (see Herrmann CPS documentation)\n",
    "# -----------------------\n",
    "dm.write96('dmtuto.mod96')"
   ]
  },
  {
   "cell_type": "code",
   "execution_count": null,
   "metadata": {},
   "outputs": [],
   "source": [
    "# -----------------------\n",
    "# display the depth model\n",
    "# -----------------------\n",
    "plt.figure(figsize=(2, 4))\n",
    "dm.show(gca())\n",
    "gca().set_title('figure 1 : dmtuto.mod96')\n",
    "gca().grid(True, linestyle=\":\")\n",
    "plt.legend();"
   ]
  },
  {
   "cell_type": "markdown",
   "metadata": {},
   "source": [
    "## II/ compute dispersion curves "
   ]
  },
  {
   "cell_type": "markdown",
   "metadata": {},
   "source": [
    "### II.1/ use in a python program"
   ]
  },
  {
   "cell_type": "code",
   "execution_count": null,
   "metadata": {},
   "outputs": [],
   "source": [
    "# -----------------------\n",
    "# use one of the following functions from srfpython.Herrmann.Herrmann\n",
    "# -----------------------\n",
    "print help(dispersion)\n",
    "# print help(dispersion_1)\n",
    "# print help(dispersion_2)"
   ]
  },
  {
   "cell_type": "code",
   "execution_count": null,
   "metadata": {},
   "outputs": [],
   "source": [
    "# -----------------------\n",
    "# compute dispersion curves from the depthmodel above\n",
    "# -----------------------\n",
    "\n",
    "# define the dipsersion curves to compute\n",
    "#          Wave(R/L) Type(C/U) Mode    Frequency array (Hz)             \n",
    "Curves = [('R',      'U',      0,      freqspace(0.2, 3.5, 35, \"log\")), \n",
    "          ('R',      'U',      1,      freqspace(0.2, 3.5, 35, \"log\")), \n",
    "          ('R',      'C',      0,      freqspace(0.2, 3.5, 35, \"log\")), \n",
    "          ('R',      'C',      1,      freqspace(0.2, 3.5, 35, \"log\")), \n",
    "          ('L',      'U',      0,      freqspace(0.2, 3.5, 35, \"log\")), \n",
    "          ('L',      'U',      1,      freqspace(0.2, 3.5, 35, \"log\")), \n",
    "          ('L',      'C',      0,      freqspace(0.2, 3.5, 35, \"log\")), \n",
    "          ('L',      'C',      1,      freqspace(0.2, 3.5, 35, \"log\"))] \n",
    "\n",
    "# compute dispersion curves\n",
    "with Timer('dispersion'):\n",
    "    out = list(dispersion_2(ztop, vp, vs, rh, Curves)) # list is used to iterate over the generator\n",
    "\n",
    "# display the results\n",
    "ax = plt.gca()\n",
    "for w, t, m, fs, us in out:\n",
    "    ax.loglog(1. / fs, us, '+-', label = \"%s%s%d\" % (w, t, m))\n",
    "ax.set_xlabel('period (s)')\n",
    "ax.set_ylabel('velocity (km/s)')    \n",
    "ax.grid(True, which = \"major\")\n",
    "ax.grid(True, which = \"minor\")\n",
    "logtick(ax, \"xy\")\n",
    "ax.set_title('figure 2 : Herrmann.py demo')\n",
    "\n",
    "plt.legend()\n",
    "plt.show()"
   ]
  },
  {
   "cell_type": "markdown",
   "metadata": {},
   "source": [
    "### II.2/ use in command line "
   ]
  },
  {
   "cell_type": "code",
   "execution_count": null,
   "metadata": {},
   "outputs": [],
   "source": [
    "# -----------------------\n",
    "# compute dispersion curves, and save as surf96 file\n",
    "# -----------------------\n",
    "\n",
    "import os\n",
    "os.system('rm -f dmtuto*.surf96')\n",
    "%run -i ../../srfpython/bin/m96 --disp dmtuto.mod96 \\\n",
    "    -LC0 .1 10 30 plog \\\n",
    "    -RC1 .1 10 30 plog \\\n",
    "    -RU0 .1 10 30 plog \\\n",
    "    -save dmtuto.surf96\n",
    "\n",
    "# if the srfpython/bin directory was added to the path as stated in README.md, simply use m96, s96, HerrMet, ..."
   ]
  },
  {
   "cell_type": "code",
   "execution_count": null,
   "metadata": {},
   "outputs": [],
   "source": [
    "# -----------------------\n",
    "# display output\n",
    "# -----------------------\n",
    "\n",
    "%run -i ../../srfpython/bin/s96 --show dmtuto.surf96 -inline"
   ]
  },
  {
   "cell_type": "markdown",
   "metadata": {},
   "source": [
    "see also programs **s96** and **m96** that provide more manipulation tools  \n",
    "for depth models and surface wave dispersion curves in command line"
   ]
  },
  {
   "cell_type": "code",
   "execution_count": null,
   "metadata": {},
   "outputs": [],
   "source": [
    "%run -i ../../srfpython/bin/m96 --help"
   ]
  },
  {
   "cell_type": "code",
   "execution_count": null,
   "metadata": {},
   "outputs": [],
   "source": [
    "%run -i ../../srfpython/bin/s96 --help"
   ]
  },
  {
   "cell_type": "markdown",
   "metadata": {},
   "source": [
    "## III/ depth inversion"
   ]
  },
  {
   "cell_type": "markdown",
   "metadata": {},
   "source": [
    "### III.1/ Program HerrMet"
   ]
  },
  {
   "cell_type": "code",
   "execution_count": null,
   "metadata": {},
   "outputs": [],
   "source": [
    "# display the main help\n",
    "%run -i ../../srfpython/bin/HerrMet -help"
   ]
  },
  {
   "cell_type": "markdown",
   "metadata": {},
   "source": [
    "### III.2/ Application"
   ]
  },
  {
   "cell_type": "markdown",
   "metadata": {},
   "source": [
    "we propose to invert the synthetic data generated in section I (dmtuto.surf96) and compare the inversion result to the actual model used to synthetize the data (i.e. dmtuto.mod96)"
   ]
  },
  {
   "cell_type": "code",
   "execution_count": null,
   "metadata": {},
   "outputs": [],
   "source": [
    "# -----------------------\n",
    "# assert section I was executed\n",
    "# clear former temporary files from III\n",
    "# -----------------------\n",
    "\n",
    "import os, glob\n",
    "assert os.path.exists(\"./dmtuto.surf96\")\n",
    "\n",
    "# clean up before running\n",
    "os.system('rm -rf _HerrMet_*')\n",
    "\n",
    "# list files in this directory\n",
    "for _ in glob.iglob('./*'):\n",
    "    print _, "
   ]
  },
  {
   "cell_type": "markdown",
   "metadata": {},
   "source": [
    "#### III.2.1/ Target data"
   ]
  },
  {
   "cell_type": "code",
   "execution_count": null,
   "metadata": {},
   "outputs": [],
   "source": [
    "# display detailed help for one or more plugins\n",
    "%run -i ../../srfpython/bin/HerrMet -help target"
   ]
  },
  {
   "cell_type": "code",
   "execution_count": null,
   "metadata": {
    "scrolled": false
   },
   "outputs": [],
   "source": [
    "# -----------------------\n",
    "# set the dispersion curves to invert referred to as the target data\n",
    "# the dispersion curve must be provided as surf96 format (see Herrmann's doc, CPS)\n",
    "# I reproduce the file content into _Herrmann.target (also at surf96 format), \n",
    "# which can be modified manually before inversion \n",
    "# (e.g. resample, remove data points or modes, adjust uncertainties for weighting, ...)\n",
    "# -----------------------\n",
    "\n",
    "# the following command will (see HerrMet --help for command names): \n",
    "# - get the target dispersion curves from dmtuto.surf96 (--target), \n",
    "# - resample it between 0.25-1 Hz with 7 samples spaced logarithmically in period domain (-resamp),\n",
    "# - adjust the uncertainties to 0.2 * velocity (i.e. constant uncertainty in logaritmic domain, --lunc), \n",
    "# - overwrite the target file if exists (-ot) \n",
    "\n",
    "%run -i ../../srfpython/bin/HerrMet \\\n",
    "    --target dmtuto.surf96 \\\n",
    "        -resamp 0.25 1.0 7 plog \\\n",
    "        -lunc 0.2 \\\n",
    "        -ot\n",
    "            \n",
    "# display the target file with s96 (-inline avoids the program to pause)\n",
    "%run -i ../../srfpython/bin/s96 --show _HerrMet_dmtuto/_HerrMet.target -inline\n",
    "\n",
    "# or directly with HerrMet (--display)\n",
    "%run -i ../../srfpython/bin/HerrMet \\\n",
    "    --display \\\n",
    "        -inline"
   ]
  },
  {
   "cell_type": "markdown",
   "metadata": {},
   "source": [
    "#### III.2.2/ Parameterization"
   ]
  },
  {
   "cell_type": "code",
   "execution_count": null,
   "metadata": {},
   "outputs": [],
   "source": [
    "# display detailed help for one or more plugins\n",
    "%run -i ../../srfpython/bin/HerrMet -help param"
   ]
  },
  {
   "cell_type": "code",
   "execution_count": null,
   "metadata": {
    "scrolled": false
   },
   "outputs": [],
   "source": [
    "# -----------------------\n",
    "# set the parameter file, the parameters will be stored into _Herrmet.param\n",
    "# use Herrmet to generate a template version\n",
    "# and customize it manually before running the inversion\n",
    "# -----------------------\n",
    "\n",
    "# the following command will :\n",
    "# - set the parameter file with 4 layers down to 3 km (--param)\n",
    "# - the parameters values will be adjusted based on an existing depthmodel (here dmtuto.mod96, -basedon),\n",
    "# - define the parameterization mode as depth, vs, vp/vs and density (-t mZVSPRRH)\n",
    "#   some other modes are available\n",
    "# - require vp, vs and density to be growing (i.e. add prior constraints to the offsets between layers, -growing),             \n",
    "# - overwrite the paramfile if exists (-op) \n",
    "# - display (-display) without pausing (-inline), plot also the actual model (-m96)\n",
    "\n",
    "%run -i ../../srfpython/bin/HerrMet \\\n",
    "        --param 4 3. \\\n",
    "            -basedon dmtuto.mod96 \\\n",
    "            -t  mZVSPRRH \\\n",
    "            -growing \\\n",
    "            -op \\\n",
    "        --display . \\\n",
    "            -m96 dmtuto.mod96 \\\n",
    "            -inline"
   ]
  },
  {
   "cell_type": "markdown",
   "metadata": {},
   "source": [
    "> red dashed curves = prior boundaries (locked for now)   \n",
    "> green duspersion curves = target data  \n",
    "> purple model = actual model used to generate the synthetic data and to build the parameterization    \n",
    "\n",
    "> * Note that at this step, the boundaries for each parameter (red dashed curves)   \n",
    "> are the same (because VINF=VSUP in _HerrMet.param) : i.e. all parameters are locked  \n",
    "> one need to adjust the VINF, VSUP boundaries for all parameters to invert  \n",
    "> you may do it manually (edit _HerrMet.param),   \n",
    "> here I do it with programming tools for tutorial  \n",
    "\n",
    "\n",
    "> * Note also that VP is not a parameter in this example, (since we use VS and VP/VS)  \n",
    "> so the boundaries displayed on the VP axis are inferred from the VS and VP/VS ones\n",
    ">\n"
   ]
  },
  {
   "cell_type": "code",
   "execution_count": null,
   "metadata": {
    "collapsed": true,
    "scrolled": false
   },
   "outputs": [],
   "source": [
    "# -----------------------\n",
    "# customize the parameterization file using programming tools (for tutorial)\n",
    "# You may do it manually simply by editing _Herrmet.param\n",
    "# -----------------------\n",
    "\n",
    "#load the parameter file, find lines related to top depth and to VS\n",
    "A = AsciiFile('_HerrMet.param')\n",
    "\n",
    "IZ  = np.asarray([\"Z\"  in _ for _ in A['KEY']], bool) #lines corresponding to Z parameters\n",
    "IVS = np.asarray([\"VS\" in _ for _ in A['KEY']], bool) #lines corresponding to VS parameters\n",
    "IPR2 = np.asarray([\"PR2\" in _ for _ in A['KEY']], bool) #line corresponding to VP/VS in the third layer"
   ]
  },
  {
   "cell_type": "code",
   "execution_count": null,
   "metadata": {},
   "outputs": [],
   "source": [
    "# change parameter boundaries (decrease VINF and increase VSUP), overwrite _HerrMet.param\n",
    "A['VINF'][IVS] = [0.55, 0.78, 1.53, 1.65]\n",
    "A['VSUP'][IVS] = [2.22, 3.15, 4.00, 4.00]\n",
    "A['VINF'][IZ]  = [-.31, -1.5, -3.1]\n",
    "A['VSUP'][IZ]  = [-.11, -1.1, -2.0]\n",
    "A['VINF'][IPR2] = A['VSUP'][IPR2] = 1.752\n",
    "print A\n",
    "\n",
    "# overwrite the parameterization file\n",
    "A.write('_HerrMet.param')"
   ]
  },
  {
   "cell_type": "code",
   "execution_count": null,
   "metadata": {},
   "outputs": [],
   "source": [
    "# -----------------------\n",
    "# send the custom version of the parameterization file to the temporary directory\n",
    "# -----------------------\n",
    "%run -i ../../srfpython/bin/HerrMet -help send"
   ]
  },
  {
   "cell_type": "code",
   "execution_count": null,
   "metadata": {},
   "outputs": [],
   "source": [
    "%run -i ../../srfpython/bin/HerrMet --send -op"
   ]
  },
  {
   "cell_type": "code",
   "execution_count": null,
   "metadata": {},
   "outputs": [],
   "source": [
    "# -----------------------\n",
    "# display the new version of the parameterization file\n",
    "# -----------------------\n",
    "\n",
    "#note that the boundaries now allow VS and Zop to vary between the red dashed lines\n",
    "%run -i ../../srfpython/bin/HerrMet \\\n",
    "    --display \\\n",
    "        -inline \\\n",
    "        -m96 ./dmtuto.mod96"
   ]
  },
  {
   "cell_type": "markdown",
   "metadata": {},
   "source": [
    "#### III.2.3/ Run inversion"
   ]
  },
  {
   "cell_type": "code",
   "execution_count": null,
   "metadata": {},
   "outputs": [],
   "source": [
    "%run ../../srfpython/bin/HerrMet -help run"
   ]
  },
  {
   "cell_type": "code",
   "execution_count": null,
   "metadata": {
    "scrolled": false
   },
   "outputs": [],
   "source": [
    "# -----------------------\n",
    "# run the inversion, will load the parameterization and target data,\n",
    "# and generate markov chains to sample the posterior pdf (in parallel)\n",
    "# the models generated by the chains will be stored in a sqlite database (_HerrMet.run)\n",
    "# -----------------------\n",
    "\n",
    "# the following command will :\n",
    "# - run the inversion with 12 markov chains in restart mode (overwrites _HerrMet.run if exists)\n",
    "# - each chain will be asked to keep 100 models\n",
    "# - use 4 virtual threads (-w) affected to the first 4 physical threads (-taskset)\n",
    "%run -i ../../srfpython/bin/HerrMet \\\n",
    "    -w 4 \\\n",
    "    -taskset \"0-3\" \\\n",
    "    -verbose 0 \\\n",
    "    --run \\\n",
    "        -nchain 12 \\\n",
    "        -nkeep 100 \\\n",
    "print \"DONE\"\n",
    "        \n",
    "# notations :\n",
    "# kept : the number of models kept by the markov chain over the number of tests\n",
    "# fail : some models can lead to failure of the forward algo (CPS), \n",
    "#        we consider them as models with no image in the dataspace\n",
    "#        the penalty is adjusted to force the chains to move away from these dead ends\n",
    "# AK   : Average keep ratio : the number of models kept / the number of tests\n",
    "#        by default, the proposal pdf is adjusted to maintain this value around .25\n",
    "# MP   : Master proposal : a coefficient to adjust the proposal distance according to AK\n",
    "# AS   : Average speed : the average number of models tested per second and per chain\n",
    "# LI   : Final log likelyhood = the quality of the last model found (not necessarily the best)"
   ]
  },
  {
   "cell_type": "code",
   "execution_count": null,
   "metadata": {},
   "outputs": [],
   "source": [
    "# -----------------------\n",
    "# see the convergence of the chains, delete chains or bad models\n",
    "# -----------------------\n",
    "%run -i ../../srfpython/bin/HerrMet -help manage"
   ]
  },
  {
   "cell_type": "code",
   "execution_count": null,
   "metadata": {},
   "outputs": [],
   "source": [
    "%run -i ../../srfpython/bin/HerrMet -verbose 0 --manage -delbad -100. -plot -inline"
   ]
  },
  {
   "cell_type": "code",
   "execution_count": null,
   "metadata": {},
   "outputs": [],
   "source": [
    "# -----------------------\n",
    "# display the results, by selecting models in the sqlite database (_HerrMet.run)\n",
    "# -----------------------\n",
    "\n",
    "# the following command will :\n",
    "# - display the best 200 models found and their image in the dataspace (-plot)\n",
    "# - recompute the dispersion curves with higher resolution (-overdisp)\n",
    "# - compute the median and std of the full population of models (-pdf)\n",
    "# - add the model used to synthetize the data (dmtuto.mod96) for comparison (-m96)\n",
    "%run -i ../../srfpython/bin/HerrMet -help display\n",
    "%run -i ../../srfpython/bin/HerrMet \\\n",
    "        -verbose 0 \\\n",
    "        --display \\\n",
    "            -plot best 200 0. 1 \\\n",
    "            -overdisp \\\n",
    "            -pdf \\\n",
    "            -inline \\\n",
    "            -m96 dmtuto.mod96\n"
   ]
  },
  {
   "cell_type": "markdown",
   "metadata": {},
   "source": [
    "> black doted curves = prior boundaries  \n",
    "> red dispersion curves = target data  \n",
    "\n",
    "> colored models = 200 best models sorted by increaseing likelyhood (see colorbar)   \n",
    "> colored dispersion curves = corresponding data, recomputed with higher resolution  \n",
    "\n",
    "> dark lines = median (thick), 16% 84% percentiles (thin) computed from the full population of models = solution  \n",
    "> purple model = actual model used to generate the synthetic data = expected solution  \n"
   ]
  },
  {
   "cell_type": "markdown",
   "metadata": {},
   "source": [
    "#### III.2.4/ Extract results"
   ]
  },
  {
   "cell_type": "code",
   "execution_count": null,
   "metadata": {},
   "outputs": [],
   "source": [
    "# -----------------------\n",
    "# HerrMet can create figures, \n",
    "# however you probably need to get the results at numerical format for further analysis\n",
    "# use option --extract to compute and save the posterior pdf purcentiles\n",
    "# -----------------------\n",
    "\n",
    "# the following command will:\n",
    "# -compute the median and std of the best 1000 models found, \n",
    "# -save it as mod96 files named \n",
    "#     _HerrMet.p0.16.mod96,_HerrMet.p0.50.mod96 and _HerrMet.p0.84.mod96\n",
    "%run -i ../../srfpython/bin/HerrMet -help extract\n",
    "%run -i ../../srfpython/bin/HerrMet \\\n",
    "    -verbose 0 \\\n",
    "    --extract \\\n",
    "        -pdf best 1000 0.0 1 "
   ]
  },
  {
   "cell_type": "code",
   "execution_count": null,
   "metadata": {},
   "outputs": [],
   "source": [
    "#display models from --extract using m96\n",
    "%run -i ../../srfpython/bin/m96 --show _HerrMet_*/_HerrMet.p*.mod96 dmtuto.mod96 -inline"
   ]
  },
  {
   "cell_type": "code",
   "execution_count": null,
   "metadata": {},
   "outputs": [],
   "source": [
    "# clear temporary files\n",
    "import glob, os\n",
    "os.system('rm -rf dmtuto.*96 _HerrMet*')\n",
    "for _ in glob.iglob('./*'):\n",
    "    print _,"
   ]
  }
 ],
 "metadata": {
  "kernelspec": {
   "display_name": "Python 2",
   "language": "python",
   "name": "python2"
  },
  "language_info": {
   "codemirror_mode": {
    "name": "ipython",
    "version": 2
   },
   "file_extension": ".py",
   "mimetype": "text/x-python",
   "name": "python",
   "nbconvert_exporter": "python",
   "pygments_lexer": "ipython2",
   "version": "2.7.14"
  }
 },
 "nbformat": 4,
 "nbformat_minor": 2
}
