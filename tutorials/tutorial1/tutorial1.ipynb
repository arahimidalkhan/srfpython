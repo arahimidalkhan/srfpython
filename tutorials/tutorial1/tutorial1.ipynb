{
 "cells": [
  {
   "cell_type": "markdown",
   "metadata": {},
   "source": [
    "# invert synthetic data using different parameterizations"
   ]
  },
  {
   "cell_type": "markdown",
   "metadata": {},
   "source": [
    "## Intro : imports, prompt help"
   ]
  },
  {
   "cell_type": "code",
   "execution_count": null,
   "metadata": {},
   "outputs": [],
   "source": [
    "import sys, glob, os\n",
    "from srfpython import *\n",
    "try:\n",
    "    check_herrmann_codes()\n",
    "except Exception:\n",
    "    recompile_src90(yes=False)\n",
    "    check_herrmann_codes()"
   ]
  },
  {
   "cell_type": "code",
   "execution_count": null,
   "metadata": {},
   "outputs": [],
   "source": [
    "rm -rf _HerrMet* *.surf96 *.mod96"
   ]
  },
  {
   "cell_type": "code",
   "execution_count": null,
   "metadata": {},
   "outputs": [],
   "source": [
    "ls ./*"
   ]
  },
  {
   "cell_type": "code",
   "execution_count": null,
   "metadata": {},
   "outputs": [],
   "source": [
    "%run -i ../../srfpython/bin/HerrMet -h"
   ]
  },
  {
   "cell_type": "markdown",
   "metadata": {},
   "source": [
    "## I/ Create synthetic data"
   ]
  },
  {
   "cell_type": "code",
   "execution_count": null,
   "metadata": {},
   "outputs": [],
   "source": [
    "# -----------------\n",
    "# generate a random depth model\n",
    "# -----------------\n",
    "ztop = np.unique(np.sort(np.random.rand(10))) * 3.\n",
    "ztop[0] = 0.\n",
    "vs   = np.linspace(.5, 3.3, len(ztop))\n",
    "pr   = np.linspace(2.1, 1.8, len(ztop))\n",
    "rh   = np.linspace(2.1, 2.8, len(ztop))\n",
    "vp = np.array(pr) * np.array(vs)\n",
    "\n",
    "dm = depthmodel_from_arrays(ztop, vp, vs, rh)\n",
    "plt.figure(figsize = (4,8))\n",
    "dm.show(gca())\n",
    "dm.pr().show(gca(), color = \"m\", label=\"vp/vs\")\n",
    "gca().grid(True)\n",
    "plt.legend()\n",
    "\n",
    "dm.write96('dmtuto.mod96')"
   ]
  },
  {
   "cell_type": "code",
   "execution_count": null,
   "metadata": {},
   "outputs": [],
   "source": [
    "# -----------------\n",
    "# compute the corresponding dispersion curves\n",
    "# -----------------\n",
    "\n",
    "os.system('rm -f dmtuto.surf96')\n",
    "%run -i ../../srfpython/bin/m96 \\\n",
    "    --disp dmtuto.mod96 \\\n",
    "        -RU0 .1  2. 12 \"log\" \\\n",
    "        -LU0 .1  2. 12 \"log\" \\\n",
    "        -RU1 .1  2. 12 \"log\" \\\n",
    "        -LU1 .1  2. 12 \"log\" \\\n",
    "        -RC0 .1  2. 12 \"log\" \\\n",
    "        -LC0 .1  2. 12 \"log\" \\\n",
    "        -RC1 .1  2. 12 \"log\" \\\n",
    "        -LC1 .1  2. 12 \"log\" \\\n",
    "        -save dmtuto.surf96\n",
    "        \n",
    "%run -i ../../srfpython/bin/s96 \\\n",
    "    --show dmtuto.surf96 \\\n",
    "        -inline        \n"
   ]
  },
  {
   "cell_type": "markdown",
   "metadata": {},
   "source": [
    "## II/ Invert data with 3 different parameterizations (2, 3, or 4 layers)"
   ]
  },
  {
   "cell_type": "code",
   "execution_count": null,
   "metadata": {},
   "outputs": [],
   "source": [
    "# -----------------\n",
    "# clean up, prepare files for 3 inversions\n",
    "# dmtuto.mod96 = synthetic model (the expected solution)\n",
    "# dmtuto.surf96 = synthetic data (the data to invert)\n",
    "# we generate 3 copies of dmtuto.surf96, to be used as targets by HerrMet\n",
    "# -----------------\n",
    "os.system('''\n",
    "rm -rf _HerrMet*\n",
    "mv dmtuto.surf96  2layers.surf96 #target 1\n",
    "cp 2layers.surf96 3layers.surf96 #target 2\n",
    "cp 2layers.surf96 4layers.surf96 #target 3\n",
    "''')\n",
    "for _ in glob.glob('./*'):\n",
    "    print _, \n"
   ]
  },
  {
   "cell_type": "code",
   "execution_count": null,
   "metadata": {},
   "outputs": [],
   "source": [
    "# -----------------\n",
    "# set target data, create temporary directories (1 per target file)\n",
    "# -----------------\n",
    "%run -i ../../srfpython/bin/HerrMet \\\n",
    "    --target ?layers.surf96 \\\n",
    "        -lunc .3 \\\n",
    "        -ot"
   ]
  },
  {
   "cell_type": "code",
   "execution_count": null,
   "metadata": {},
   "outputs": [],
   "source": [
    "#ls -lrth ./*"
   ]
  },
  {
   "cell_type": "code",
   "execution_count": null,
   "metadata": {},
   "outputs": [],
   "source": [
    "# show target (qc)\n",
    "%run -i ../../srfpython/bin/s96 \\\n",
    "    --show _HerrMet_2layers/_HerrMet.target \\\n",
    "        -inline"
   ]
  },
  {
   "cell_type": "markdown",
   "metadata": {},
   "source": [
    "# Parameterization"
   ]
  },
  {
   "cell_type": "code",
   "execution_count": null,
   "metadata": {},
   "outputs": [],
   "source": [
    "# -----------------\n",
    "# set parameterization template, with two layers (in ./_HerrMet.param)\n",
    "# -----------------\n",
    "%run -i ../../srfpython/bin/HerrMet \\\n",
    "    --param 2 3. \\\n",
    "        -t mZVSPRRH \\\n",
    "        -growing \\\n",
    "        -op \\\n",
    "    --send   \n",
    "    \n",
    "# the template file is no longer needed, \n",
    "# the next cells reproduce the file content in _HerrMet_*/_HerrMet.param    \n",
    "os.system('rm -f ./_HerrMet.param') "
   ]
  },
  {
   "cell_type": "code",
   "execution_count": null,
   "metadata": {},
   "outputs": [],
   "source": [
    "# -----------------\n",
    "# customize parameterization manually : 2 layers case\n",
    "# -----------------\n",
    "with open('_HerrMet_2layers/_HerrMet.param', \"w\") as fid:\n",
    "    fid.write(\"\"\"\n",
    "#met DRHMIN = 0.0\n",
    "#met DPRMAX = 0.0\n",
    "#met DVPMIN = 0.0\n",
    "#met DRHMAX = 5.0\n",
    "#met DVPMAX = 5.0\n",
    "#met DVSMAX = 5.0\n",
    "#met DPRMIN = -5.0\n",
    "#met PRIORTYPE = 'DVPDVSDRHDPR'\n",
    "#met NLAYER = 2\n",
    "#met TYPE = 'mZVSPRRH'\n",
    "#met DVSMIN = 0.0\n",
    "#fld KEY VINF VSUP\n",
    "#unt - - -\n",
    "#fmt %5s %16f %16f\n",
    "       -Z1        -3.000000        -0.001000\n",
    "       VS0         0.100000         3.500000\n",
    "       VS1         0.100000         3.500000\n",
    "       PR0         1.79             2.12\n",
    "       PR1         1.79             2.12\n",
    "       RH0         2.1              2.9\n",
    "       RH1         2.1              2.9\"\"\")"
   ]
  },
  {
   "cell_type": "code",
   "execution_count": null,
   "metadata": {},
   "outputs": [],
   "source": [
    "# -----------------\n",
    "# customize parameterization manually : 3 layers case\n",
    "# -----------------\n",
    "with open('_HerrMet_3layers/_HerrMet.param', \"w\") as fid:\n",
    "    fid.write(\"\"\"\n",
    "#met DRHMIN = 0.0\n",
    "#met DPRMAX = 0.0\n",
    "#met DVPMIN = 0.0\n",
    "#met DRHMAX = 5.0\n",
    "#met DVPMAX = 5.0\n",
    "#met DVSMAX = 5.0\n",
    "#met DPRMIN = -5.0\n",
    "#met PRIORTYPE = 'DVPDVSDRHDPR'\n",
    "#met NLAYER = 3\n",
    "#met TYPE = 'mZVSPRRH'\n",
    "#met DVSMIN = 0.0\n",
    "#fld KEY VINF VSUP\n",
    "#unt - - -\n",
    "#fmt %5s %16f %16f\n",
    "       -Z1        -2.              -0.001000\n",
    "       -Z3        -3.000000        -1.\n",
    "       VS0         0.100000         3.500000\n",
    "       VS1         0.100000         3.500000\n",
    "       VS2         0.100000         3.500000\n",
    "       PR0         1.79             2.12\n",
    "       PR1         1.79             2.12\n",
    "       PR2         1.79             2.12       \n",
    "       RH0         2.1              2.9\n",
    "       RH1         2.1              2.9\n",
    "       RH2         2.1              2.9\"\"\")\n",
    "#%run -i ../../srfpython/bin/HerrMet \\\n",
    "#    --display _HerrMet_3layers \\\n",
    "#        -m96 dmtuto.mod96 \\\n",
    "#        -inline"
   ]
  },
  {
   "cell_type": "code",
   "execution_count": null,
   "metadata": {},
   "outputs": [],
   "source": [
    "# -----------------\n",
    "# customize parameterization manually : 4 layers case\n",
    "# -----------------\n",
    "with open('_HerrMet_4layers/_HerrMet.param', \"w\") as fid:\n",
    "    fid.write(\"\"\"\n",
    "#met DRHMIN = 0.0\n",
    "#met DPRMAX = 0.0\n",
    "#met DVPMIN = 0.0\n",
    "#met DRHMAX = 5.0\n",
    "#met DVPMAX = 5.0\n",
    "#met DVSMAX = 5.0\n",
    "#met DPRMIN = -5.0\n",
    "#met PRIORTYPE = 'DVPDVSDRHDPR'\n",
    "#met NLAYER = 4\n",
    "#met TYPE = 'mZVSPRRH'\n",
    "#met DVSMIN = 0.0\n",
    "#fld KEY VINF VSUP\n",
    "#unt - - -\n",
    "#fmt %5s %16f %16f\n",
    "       -Z1        -1.000000        -0.001000\n",
    "       -Z2        -2.000000        -0.500000\n",
    "       -Z3        -3.000000        -1.000000\n",
    "       VS0         0.100000         3.500000\n",
    "       VS1         0.100000         3.500000\n",
    "       VS2         0.100000         3.500000\n",
    "       VS3         0.100000         3.500000\n",
    "       PR0         1.79             2.12       \n",
    "       PR1         1.79             2.12       \n",
    "       PR2         1.79             2.12       \n",
    "       PR3         1.79             2.12          \n",
    "       RH0         2.1              2.9\n",
    "       RH1         2.1              2.9\n",
    "       RH2         2.1              2.9\n",
    "       RH3         2.1              2.9\"\"\")"
   ]
  },
  {
   "cell_type": "code",
   "execution_count": null,
   "metadata": {},
   "outputs": [],
   "source": [
    "# check parameterizations for all 3 parameterizations\n",
    "#%run -i ../../srfpython/bin/HerrMet \\\n",
    "#    --display \\\n",
    "#        -m96 dmtuto.mod96 \\\n",
    "#        -inline\n",
    "\n",
    "# check parameterizations for 2 layers only\n",
    "%run -i ../../srfpython/bin/HerrMet \\\n",
    "    --display _HerrMet_2layers \\\n",
    "        -m96 dmtuto.mod96 \\\n",
    "        -inline"
   ]
  },
  {
   "cell_type": "code",
   "execution_count": null,
   "metadata": {},
   "outputs": [],
   "source": [
    "# -----------------\n",
    "# run all inversions (1 by 1) in restart mode\n",
    "# -----------------\n",
    "%run -i ../../srfpython/bin/HerrMet \\\n",
    "    -w 8 \\\n",
    "    -taskset \"0-3\" \\\n",
    "    -verbose 0 \\\n",
    "    --run \\\n",
    "        -nchain 16 \\\n",
    "        -nkeep 200 \n",
    "print \"DONE\""
   ]
  },
  {
   "cell_type": "code",
   "execution_count": null,
   "metadata": {
    "scrolled": false
   },
   "outputs": [],
   "source": [
    "# -----------------\n",
    "# display results\n",
    "# -----------------\n",
    "%run -i ../../srfpython/bin/HerrMet \\\n",
    "    -verbose 0 \\\n",
    "    --display _HerrMet_2layers _HerrMet_3layers _HerrMet_4layers \\\n",
    "        -top 0. 200 1 \\\n",
    "        -overdisp \\\n",
    "        -cmap gray \\\n",
    "        -pdf  \\\n",
    "        -m96 dmtuto.mod96 \\\n",
    "        -inline"
   ]
  },
  {
   "cell_type": "code",
   "execution_count": null,
   "metadata": {},
   "outputs": [],
   "source": [
    "#clean up\n",
    "os.system('rm -rf *surf96 *mod96 _HerrMet*')"
   ]
  },
  {
   "cell_type": "code",
   "execution_count": null,
   "metadata": {},
   "outputs": [],
   "source": [
    "ls ./*"
   ]
  },
  {
   "cell_type": "code",
   "execution_count": null,
   "metadata": {},
   "outputs": [],
   "source": []
  }
 ],
 "metadata": {
  "kernelspec": {
   "display_name": "Python 2",
   "language": "python",
   "name": "python2"
  },
  "language_info": {
   "codemirror_mode": {
    "name": "ipython",
    "version": 2
   },
   "file_extension": ".py",
   "mimetype": "text/x-python",
   "name": "python",
   "nbconvert_exporter": "python",
   "pygments_lexer": "ipython2",
   "version": "2.7.14"
  }
 },
 "nbformat": 4,
 "nbformat_minor": 2
}
